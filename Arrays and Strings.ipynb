{
 "cells": [
  {
   "cell_type": "markdown",
   "metadata": {},
   "source": [
    "# Unique Characters in a String"
   ]
  },
  {
   "cell_type": "code",
   "execution_count": 7,
   "metadata": {
    "collapsed": true
   },
   "outputs": [],
   "source": [
    "def isUnique(input):\n",
    "    charset = [False]*128\n",
    "    for i in input:\n",
    "        index = ord(i)\n",
    "        if charset[index]:\n",
    "            return False\n",
    "        else:\n",
    "            charset[index]=True\n",
    "    return True\n",
    "    \n",
    "    "
   ]
  },
  {
   "cell_type": "code",
   "execution_count": 13,
   "metadata": {},
   "outputs": [
    {
     "data": {
      "text/plain": [
       "False"
      ]
     },
     "execution_count": 13,
     "metadata": {},
     "output_type": "execute_result"
    }
   ],
   "source": [
    "isUnique(\"qwretyuioplkjhgfdsaazxcvbnm0987654321\")"
   ]
  },
  {
   "cell_type": "markdown",
   "metadata": {},
   "source": [
    "# Two Strings, Decide One Permutation of other or not"
   ]
  },
  {
   "cell_type": "code",
   "execution_count": 25,
   "metadata": {
    "collapsed": true
   },
   "outputs": [],
   "source": [
    "def isPermutation(input1, input2):\n",
    "    dict={}\n",
    "    if len(input1) != len(input2):\n",
    "        return False\n",
    "    for i in input1:\n",
    "        if i in dict:\n",
    "            dict[i]+=1\n",
    "        else:\n",
    "            dict[i]=1\n",
    "    for t in input2:\n",
    "        if t in dict and dict[t]>0:\n",
    "            dict[t]-=1\n",
    "        else:\n",
    "            return False\n",
    "    return True"
   ]
  },
  {
   "cell_type": "code",
   "execution_count": 30,
   "metadata": {},
   "outputs": [
    {
     "data": {
      "text/plain": [
       "False"
      ]
     },
     "execution_count": 30,
     "metadata": {},
     "output_type": "execute_result"
    }
   ],
   "source": [
    "isPermutation(\"a\",\"k\")"
   ]
  },
  {
   "cell_type": "markdown",
   "metadata": {},
   "source": [
    "# URLify a String"
   ]
  },
  {
   "cell_type": "code",
   "execution_count": 51,
   "metadata": {
    "collapsed": true
   },
   "outputs": [],
   "source": [
    "def getUrlify(input, count):\n",
    "    charArray = list(input)\n",
    "    charArray = charArray[:count]\n",
    "    for i in range(count):\n",
    "        if ord(input[i])==32:\n",
    "            charArray[i]='%20'\n",
    "    return ''.join(charArray)  "
   ]
  },
  {
   "cell_type": "code",
   "execution_count": 53,
   "metadata": {},
   "outputs": [
    {
     "data": {
      "text/plain": [
       "'cvb%20n'"
      ]
     },
     "execution_count": 53,
     "metadata": {},
     "output_type": "execute_result"
    }
   ],
   "source": [
    "getUrlify('cvb n',5)"
   ]
  },
  {
   "cell_type": "markdown",
   "metadata": {},
   "source": [
    "# Palindrome Permutation"
   ]
  },
  {
   "cell_type": "code",
   "execution_count": 86,
   "metadata": {
    "collapsed": true
   },
   "outputs": [],
   "source": [
    "def isPalindromePermutation(input):\n",
    "    dict={}\n",
    "    isFirstOdd = False\n",
    "    for i in input:\n",
    "        if i in dict:\n",
    "            dict[i]+=1\n",
    "        else:\n",
    "            dict[i]=1\n",
    "    for key in dict:\n",
    "        if dict[key]%2==1:\n",
    "            if isFirstOdd:\n",
    "                return False\n",
    "            isFirstOdd = True\n",
    "            \n",
    "    return True\n",
    "        \n",
    "    "
   ]
  },
  {
   "cell_type": "code",
   "execution_count": 88,
   "metadata": {},
   "outputs": [
    {
     "data": {
      "text/plain": [
       "False"
      ]
     },
     "execution_count": 88,
     "metadata": {},
     "output_type": "execute_result"
    }
   ],
   "source": [
    "isPalindromePermutation(\"rrjjlt\")"
   ]
  },
  {
   "cell_type": "markdown",
   "metadata": {},
   "source": [
    "# One Edit Away"
   ]
  },
  {
   "cell_type": "code",
   "execution_count": 101,
   "metadata": {
    "collapsed": true
   },
   "outputs": [],
   "source": [
    "def isOneEditAway(input1, input2):\n",
    "    diff = abs(len(input1)-len(input2))\n",
    "    if diff>1:\n",
    "        return False\n",
    "    if diff==0:\n",
    "        dup=False\n",
    "        for i in range(len(input1)):\n",
    "            if input1[i]!=input2[i]:\n",
    "                if dup:\n",
    "                    return False\n",
    "                dup=True\n",
    "    elif len(input1)-len(input2)==1:\n",
    "        return getEdit(input1, input2)\n",
    "    else:\n",
    "        return getEdit(input2, input1)\n",
    "    return True\n",
    "\n",
    "def getEdit(value1, value2):\n",
    "    k=0\n",
    "    i=0\n",
    "    dup=False\n",
    "    while i < len(value1)-1:\n",
    "        if value1[i]==value2[k]:\n",
    "            i+=1\n",
    "            k+=1\n",
    "        else:\n",
    "            if dup:\n",
    "                return False\n",
    "            i=i+1\n",
    "            dup=True\n",
    "    return True\n",
    "        \n",
    "        \n",
    "        \n",
    "        \n",
    "        "
   ]
  },
  {
   "cell_type": "code",
   "execution_count": 105,
   "metadata": {},
   "outputs": [
    {
     "data": {
      "text/plain": [
       "True"
      ]
     },
     "execution_count": 105,
     "metadata": {},
     "output_type": "execute_result"
    }
   ],
   "source": [
    "isOneEditAway('abk','abc')"
   ]
  },
  {
   "cell_type": "markdown",
   "metadata": {},
   "source": [
    "# String Compression"
   ]
  },
  {
   "cell_type": "code",
   "execution_count": 127,
   "metadata": {
    "collapsed": true
   },
   "outputs": [],
   "source": [
    "def getStringCompression(input):\n",
    "    if input:\n",
    "        i=0\n",
    "        j=1\n",
    "        count=1\n",
    "        output=[]\n",
    "        while j < len(input):\n",
    "            if input[i]!=input[j]:\n",
    "                output.append(input[i])\n",
    "                output.append(str(count))\n",
    "                count=1\n",
    "            else:\n",
    "                count=count+1\n",
    "            i=i+1\n",
    "            j=j+1\n",
    "        output.append(input[i])\n",
    "        output.append(str(count))\n",
    "        outValue= ''.join(output)\n",
    "        if len(outValue)>len(input):\n",
    "            return input\n",
    "        return outValue\n",
    "    else:\n",
    "        return input\n",
    "            \n",
    "        \n",
    "    "
   ]
  },
  {
   "cell_type": "code",
   "execution_count": 130,
   "metadata": {},
   "outputs": [
    {
     "data": {
      "text/plain": [
       "'a2'"
      ]
     },
     "execution_count": 130,
     "metadata": {},
     "output_type": "execute_result"
    }
   ],
   "source": [
    "getStringCompression('aa')"
   ]
  },
  {
   "cell_type": "code",
   "execution_count": 7,
   "metadata": {
    "collapsed": true
   },
   "outputs": [],
   "source": [
    "def getRotateMatrix(input):\n",
    "    last= len(input[0])-1\n",
    "    start=0\n",
    "    while start<last:\n",
    "        for i in range(len(input[0])):\n",
    "            input[start][i], input[last][i]=input[last][i],input[start][i]\n",
    "        start=start+1\n",
    "        last =last-1\n",
    "    first = 0\n",
    "    end=0\n",
    "    while first<(len(input[0])-1):\n",
    "        while end<len(input[0]):\n",
    "            input[first][end], input[end][first] =input[end][first],input[first][end]\n",
    "            end=end+1\n",
    "        first=first+1\n",
    "        end=first\n",
    "        \n",
    "    print(input)\n",
    "    "
   ]
  },
  {
   "cell_type": "code",
   "execution_count": 18,
   "metadata": {},
   "outputs": [
    {
     "name": "stdout",
     "output_type": "stream",
     "text": [
      "[[13, 9, 5, 1], [14, 10, 6, 2], [15, 11, 7, 3], [16, 12, 8, 4]]\n"
     ]
    }
   ],
   "source": [
    "input=[[1,2,3,4],[5,6,7,8],[9,10,11,12],[13,14,15,16]]\n",
    "getRotateMatrix(input)"
   ]
  },
  {
   "cell_type": "markdown",
   "metadata": {},
   "source": [
    "# Zero Matrix"
   ]
  },
  {
   "cell_type": "code",
   "execution_count": 62,
   "metadata": {
    "collapsed": true
   },
   "outputs": [],
   "source": [
    "def getMatrix(input):\n",
    "    isFirstRow=False\n",
    "    isFirstColumn=False\n",
    "    for i in range(len(input[0])):\n",
    "        if input[0][i]==0:\n",
    "            isFirstRow=True\n",
    "            break\n",
    "    for j in range(len(input)):\n",
    "        if input[j][0]==0:\n",
    "            isFirstColumn=True\n",
    "            break\n",
    "    for i in range(1, len(input)):\n",
    "        for j in range(1,len(input[0])):\n",
    "            if input[i][j]==0:\n",
    "                input[i][0]=0\n",
    "                input[0][j]=0\n",
    "    for i in range(1,len(input)):\n",
    "        if input[i][0]==0:\n",
    "            nullifyRow(i,input)\n",
    "    for j in range(1,len(input[0])):\n",
    "        if input[0][j]==0:\n",
    "            nullifyColumn(j,input)\n",
    "    if isFirstRow:\n",
    "        nullifyRow(0,input)\n",
    "    if isFirstColumn:\n",
    "        nullifyColumn(0,input)\n",
    "    return input\n",
    "def nullifyRow(row,input):\n",
    "    for i in range(1,len(input[0])):\n",
    "        input[row][i]=0\n",
    "def nullifyColumn(column,input):\n",
    "    for i in range(1,len(input)):\n",
    "        input[i][column]=0\n",
    "    \n",
    "            "
   ]
  },
  {
   "cell_type": "code",
   "execution_count": 63,
   "metadata": {},
   "outputs": [
    {
     "data": {
      "text/plain": [
       "[[1, 0, 3, 4], [0, 0, 0, 0], [9, 0, 11, 12], [13, 0, 15, 16]]"
      ]
     },
     "execution_count": 63,
     "metadata": {},
     "output_type": "execute_result"
    }
   ],
   "source": [
    "input=[[1,2,3,4],[5,0,7,8],[9,10,11,12],[13,14,15,16]]\n",
    "getMatrix(input)"
   ]
  },
  {
   "cell_type": "markdown",
   "metadata": {
    "collapsed": true
   },
   "source": [
    "# Rotation String"
   ]
  },
  {
   "cell_type": "code",
   "execution_count": 4,
   "metadata": {},
   "outputs": [],
   "source": [
    "def isRotation(s1,s2):\n",
    "    s1 = s1*2\n",
    "    if s1.find(s2)!=-1:\n",
    "        return True\n",
    "    return False"
   ]
  },
  {
   "cell_type": "code",
   "execution_count": 7,
   "metadata": {},
   "outputs": [
    {
     "data": {
      "text/plain": [
       "True"
      ]
     },
     "execution_count": 7,
     "metadata": {},
     "output_type": "execute_result"
    }
   ],
   "source": [
    "isRotation('waterbottle','erbottlewat')"
   ]
  },
  {
   "cell_type": "code",
   "execution_count": null,
   "metadata": {
    "collapsed": true
   },
   "outputs": [],
   "source": []
  }
 ],
 "metadata": {
  "kernelspec": {
   "display_name": "Python 3",
   "language": "python",
   "name": "python3"
  },
  "language_info": {
   "codemirror_mode": {
    "name": "ipython",
    "version": 3
   },
   "file_extension": ".py",
   "mimetype": "text/x-python",
   "name": "python",
   "nbconvert_exporter": "python",
   "pygments_lexer": "ipython3",
   "version": "3.6.5"
  }
 },
 "nbformat": 4,
 "nbformat_minor": 2
}
