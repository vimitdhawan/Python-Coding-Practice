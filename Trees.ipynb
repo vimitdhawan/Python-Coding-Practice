{
 "cells": [
  {
   "cell_type": "code",
   "execution_count": null,
   "metadata": {},
   "outputs": [],
   "source": [
    "class Node(object):\n",
    "    def __init__(self,data):\n",
    "        self.data = data\n",
    "        self.leftNode = None\n",
    "        self.rightNode = None"
   ]
  },
  {
   "cell_type": "code",
   "execution_count": 30,
   "metadata": {},
   "outputs": [],
   "source": [
    "class BST(object):\n",
    "    def __init__(self):\n",
    "        self.root = None\n",
    "    \n",
    "    #O(log n) Balanced BST\n",
    "    def insert(self, data):\n",
    "        newNode = Node(data)\n",
    "        traverseNode = self.root\n",
    "        if traverseNode:\n",
    "            while traverseNode:\n",
    "                if data > traverseNode.data:\n",
    "                    if traverseNode.rightNode:\n",
    "                        traverseNode = traverseNode.rightNode\n",
    "                    else:\n",
    "                        traverseNode.rightNode = newNode\n",
    "                        return\n",
    "                else:\n",
    "                    if traverseNode.leftNode:\n",
    "                        traverseNode = traverseNode.leftNode\n",
    "                    else:\n",
    "                        traverseNode.leftNode = newNode\n",
    "                        return\n",
    "        else:\n",
    "            self.root=newNode\n",
    "            \n",
    "    def traverse(self, typeTraverse):\n",
    "        node = self.root\n",
    "        if typeTraverse==\"inOrder\":\n",
    "            self.inorderTraversal(node)\n",
    "        elif typeTraverse == \"preOrder\":\n",
    "            self.preOrderTraverse(node)\n",
    "        elif typeTraverse == \"postOrder\":\n",
    "            self.postOrderTraverse(node)\n",
    "        else:\n",
    "            print(\"please enter inOrder, preorder, postOrder\")\n",
    "            \n",
    "    def inorderTraversal(self, node):\n",
    "        if not node:\n",
    "            return None\n",
    "        else:\n",
    "            if node.leftNode:\n",
    "                self.inorderTraversal(node.leftNode)\n",
    "            print(node.data)\n",
    "            if node.rightNode:\n",
    "                self.inorderTraversal(node.rightNode)\n",
    "    def preOrderTraverse(self, node):\n",
    "        if not node:\n",
    "            return None\n",
    "        else:\n",
    "            print(node.data)\n",
    "            if node.leftNode:\n",
    "                self.preOrderTraverse(node.leftNode)\n",
    "            if node.rightNode:\n",
    "                self.preOrderTraverse(node.rightNode)\n",
    "                \n",
    "    def postOrderTraverse(self, node):\n",
    "        if not node:\n",
    "            return None\n",
    "        else:\n",
    "            if node.leftNode:\n",
    "                self.postOrderTraverse(node.leftNode)\n",
    "            if node.rightNode:\n",
    "                self.postOrderTraverse(node.rightNode)\n",
    "            print(node.data)\n",
    "        "
   ]
  },
  {
   "cell_type": "code",
   "execution_count": 31,
   "metadata": {},
   "outputs": [],
   "source": [
    "bst = BST()"
   ]
  },
  {
   "cell_type": "code",
   "execution_count": 32,
   "metadata": {},
   "outputs": [],
   "source": [
    "bst.insert(10)\n",
    "bst.insert(5)\n",
    "bst.insert(7)\n",
    "bst.insert(1)"
   ]
  },
  {
   "cell_type": "code",
   "execution_count": 34,
   "metadata": {},
   "outputs": [
    {
     "name": "stdout",
     "output_type": "stream",
     "text": [
      "1\n",
      "5\n",
      "7\n",
      "10\n"
     ]
    }
   ],
   "source": [
    "bst.traverse(\"inOrder\")"
   ]
  },
  {
   "cell_type": "code",
   "execution_count": 35,
   "metadata": {},
   "outputs": [
    {
     "name": "stdout",
     "output_type": "stream",
     "text": [
      "1\n",
      "7\n",
      "5\n",
      "10\n"
     ]
    }
   ],
   "source": [
    "bst.traverse(\"postOrder\")"
   ]
  },
  {
   "cell_type": "code",
   "execution_count": 36,
   "metadata": {},
   "outputs": [
    {
     "name": "stdout",
     "output_type": "stream",
     "text": [
      "10\n",
      "5\n",
      "1\n",
      "7\n"
     ]
    }
   ],
   "source": [
    "bst.traverse(\"preOrder\")"
   ]
  },
  {
   "cell_type": "markdown",
   "metadata": {},
   "source": [
    "# Validate to check BST or not"
   ]
  },
  {
   "cell_type": "code",
   "execution_count": null,
   "metadata": {},
   "outputs": [],
   "source": []
  }
 ],
 "metadata": {
  "kernelspec": {
   "display_name": "Python 3",
   "language": "python",
   "name": "python3"
  },
  "language_info": {
   "codemirror_mode": {
    "name": "ipython",
    "version": 3
   },
   "file_extension": ".py",
   "mimetype": "text/x-python",
   "name": "python",
   "nbconvert_exporter": "python",
   "pygments_lexer": "ipython3",
   "version": "3.6.5"
  }
 },
 "nbformat": 4,
 "nbformat_minor": 2
}
