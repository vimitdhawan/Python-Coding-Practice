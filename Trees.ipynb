{
 "cells": [
  {
   "cell_type": "code",
   "execution_count": 29,
   "metadata": {},
   "outputs": [],
   "source": [
    "class Node(object):\n",
    "    def __init__(self,data):\n",
    "        self.data = data\n",
    "        self.leftNode = None\n",
    "        self.rightNode = None"
   ]
  },
  {
   "cell_type": "code",
   "execution_count": 87,
   "metadata": {},
   "outputs": [],
   "source": [
    "class BST(object):\n",
    "    def __init__(self):\n",
    "        self.root = None\n",
    "    \n",
    "    #O(log n) Balanced BST\n",
    "    def insert(self, data):\n",
    "        newNode = Node(data)\n",
    "        traverseNode = self.root\n",
    "        if traverseNode:\n",
    "            while traverseNode:\n",
    "                if data > traverseNode.data:\n",
    "                    if traverseNode.rightNode:\n",
    "                        traverseNode = traverseNode.rightNode\n",
    "                    else:\n",
    "                        traverseNode.rightNode = newNode\n",
    "                        return\n",
    "                else:\n",
    "                    if traverseNode.leftNode:\n",
    "                        traverseNode = traverseNode.leftNode\n",
    "                    else:\n",
    "                        traverseNode.leftNode = newNode\n",
    "                        return\n",
    "        else:\n",
    "            self.root=newNode\n",
    "    \n",
    "    def removeNode(self, data):\n",
    "        if self.root:\n",
    "            self.root = self.remove(data, self.root)\n",
    "    \n",
    "    \n",
    "    def remove(self, data, node):\n",
    "        if not node:\n",
    "            return node\n",
    "        elif data > node.data:\n",
    "            node.rightNode= self.remove(data, node.rightNode)\n",
    "        elif data < node.data:\n",
    "            node.leftNode = self.remove(data, node.leftNode)\n",
    "        else:\n",
    "            if not node.rightNode and not node.leftNode:\n",
    "                del node\n",
    "                return None\n",
    "            elif not node.rightNode:\n",
    "                return node.leftNode\n",
    "            elif not node.leftNode:\n",
    "                return node.rightNode\n",
    "            else:\n",
    "                tempNode = self.getPredecessor(node.leftNode);   # self instead of elf  + get predecessor \n",
    "                node.data = tempNode.data;\n",
    "                node.leftNode = self.remove(tempNode.data, node.leftNode);\n",
    "        return node\n",
    "                    \n",
    "    def getPredecessor(self, node):\n",
    "        if node.rightNode:\n",
    "            return self.getPredecessor(node.rightNode)\n",
    "        return node\n",
    "    \n",
    "    def traverse(self, typeTraverse):\n",
    "        node = self.root\n",
    "        if typeTraverse==\"inOrder\":\n",
    "            self.inorderTraversal(node)\n",
    "        elif typeTraverse == \"preOrder\":\n",
    "            self.preOrderTraverse(node)\n",
    "        elif typeTraverse == \"postOrder\":\n",
    "            self.postOrderTraverse(node)\n",
    "        else:\n",
    "            print(\"please enter inOrder, preorder, postOrder\")\n",
    "            \n",
    "    def inorderTraversal(self, node):\n",
    "        if not node:\n",
    "            return None\n",
    "        else:\n",
    "            if node.leftNode:\n",
    "                self.inorderTraversal(node.leftNode)\n",
    "            print(node.data)\n",
    "            if node.rightNode:\n",
    "                self.inorderTraversal(node.rightNode)\n",
    "    def preOrderTraverse(self, node):\n",
    "        if not node:\n",
    "            return None\n",
    "        else:\n",
    "            print(node.data)\n",
    "            if node.leftNode:\n",
    "                self.preOrderTraverse(node.leftNode)\n",
    "            if node.rightNode:\n",
    "                self.preOrderTraverse(node.rightNode)\n",
    "                \n",
    "    def postOrderTraverse(self, node):\n",
    "        if not node:\n",
    "            return None\n",
    "        else:\n",
    "            if node.leftNode:\n",
    "                self.postOrderTraverse(node.leftNode)\n",
    "            if node.rightNode:\n",
    "                self.postOrderTraverse(node.rightNode)\n",
    "            print(node.data)\n",
    "        "
   ]
  },
  {
   "cell_type": "code",
   "execution_count": 88,
   "metadata": {},
   "outputs": [],
   "source": [
    "bst = BST()"
   ]
  },
  {
   "cell_type": "code",
   "execution_count": 89,
   "metadata": {},
   "outputs": [],
   "source": [
    "bst.insert(10)\n",
    "bst.insert(5)\n",
    "bst.insert(7)\n",
    "bst.insert(1)\n",
    "bst.insert(12)\n",
    "bst.insert(15)"
   ]
  },
  {
   "cell_type": "code",
   "execution_count": 90,
   "metadata": {},
   "outputs": [
    {
     "name": "stdout",
     "output_type": "stream",
     "text": [
      "1\n",
      "5\n",
      "7\n",
      "10\n",
      "12\n",
      "15\n"
     ]
    }
   ],
   "source": [
    "bst.traverse(\"inOrder\")"
   ]
  },
  {
   "cell_type": "code",
   "execution_count": 91,
   "metadata": {},
   "outputs": [
    {
     "name": "stdout",
     "output_type": "stream",
     "text": [
      "1\n",
      "7\n",
      "5\n",
      "15\n",
      "12\n",
      "10\n"
     ]
    }
   ],
   "source": [
    "bst.traverse(\"postOrder\")"
   ]
  },
  {
   "cell_type": "code",
   "execution_count": 94,
   "metadata": {},
   "outputs": [
    {
     "name": "stdout",
     "output_type": "stream",
     "text": [
      "7\n",
      "5\n",
      "1\n",
      "12\n",
      "15\n"
     ]
    }
   ],
   "source": [
    "bst.traverse(\"preOrder\")"
   ]
  },
  {
   "cell_type": "code",
   "execution_count": 93,
   "metadata": {},
   "outputs": [],
   "source": [
    "bst.removeNode(10)"
   ]
  },
  {
   "cell_type": "markdown",
   "metadata": {},
   "source": [
    "# Validate to check BST or not"
   ]
  },
  {
   "cell_type": "code",
   "execution_count": null,
   "metadata": {},
   "outputs": [],
   "source": []
  }
 ],
 "metadata": {
  "kernelspec": {
   "display_name": "Python 3",
   "language": "python",
   "name": "python3"
  },
  "language_info": {
   "codemirror_mode": {
    "name": "ipython",
    "version": 3
   },
   "file_extension": ".py",
   "mimetype": "text/x-python",
   "name": "python",
   "nbconvert_exporter": "python",
   "pygments_lexer": "ipython3",
   "version": "3.7.0"
  }
 },
 "nbformat": 4,
 "nbformat_minor": 2
}
