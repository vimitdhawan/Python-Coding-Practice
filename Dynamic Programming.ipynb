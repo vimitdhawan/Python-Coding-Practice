{
 "cells": [
  {
   "cell_type": "markdown",
   "metadata": {},
   "source": [
    "# Child running up a staircase with n steps"
   ]
  },
  {
   "cell_type": "code",
   "execution_count": 11,
   "metadata": {
    "collapsed": true
   },
   "outputs": [],
   "source": [
    "def getNoOfWays(n):\n",
    "    memo = [0]*(n+1)\n",
    "    ways = getWays(n,memo)\n",
    "    return ways\n",
    "def getWays(n,memo):\n",
    "    if n<0:\n",
    "        return 0\n",
    "    elif n==0:\n",
    "        return 1\n",
    "    elif memo[n]!=0:\n",
    "        return memo[n]\n",
    "    else:\n",
    "        memo[n]= getWays(n-1,memo)+getWays(n-2,memo)+getWays(n-3,memo)\n",
    "        return memo[n]"
   ]
  },
  {
   "cell_type": "code",
   "execution_count": 17,
   "metadata": {},
   "outputs": [
    {
     "data": {
      "text/plain": [
       "13"
      ]
     },
     "execution_count": 17,
     "metadata": {},
     "output_type": "execute_result"
    }
   ],
   "source": [
    "getNoOfWays(5)"
   ]
  },
  {
   "cell_type": "markdown",
   "metadata": {},
   "source": [
    "# Robot in a Grid"
   ]
  },
  {
   "cell_type": "code",
   "execution_count": 59,
   "metadata": {
    "collapsed": true
   },
   "outputs": [],
   "source": [
    "def getRobots(maze):\n",
    "    if len(maze)==0:\n",
    "        return\n",
    "    else:\n",
    "        points=[]\n",
    "        memoGrid = []\n",
    "        getPoints(maze, len(maze)-1,len(maze[0])-1,points,memoGrid)\n",
    "        \n",
    "def getPoints(maze, row, col,points, memoGrid):\n",
    "    if col<0 or row<0 or not maze[row][col]:\n",
    "        return False\n",
    "    if (row,col) in memoGrid:\n",
    "        return False\n",
    "    isAtOrigin = row==0 and col==0\n",
    "    \n",
    "    if isAtOrigin or getPoints(maze, row, col-1, points, memoGrid) or getPoints(maze, row-1, col, points, memoGrid):\n",
    "        points.append((row,col))\n",
    "        print(\"points\",points)\n",
    "        print(\"memoGris\", memoGrid)\n",
    "        return True\n",
    "    memoGrid.append((row,col))\n",
    "    return False\n",
    "    \n",
    "    \n",
    "    \n",
    "    "
   ]
  },
  {
   "cell_type": "code",
   "execution_count": 78,
   "metadata": {},
   "outputs": [
    {
     "name": "stdout",
     "output_type": "stream",
     "text": [
      "points [(0, 0)]\n",
      "memoGris [(2, 0), (3, 0), (2, 1), (3, 1)]\n",
      "points [(0, 0), (0, 1)]\n",
      "memoGris [(2, 0), (3, 0), (2, 1), (3, 1)]\n",
      "points [(0, 0), (0, 1), (0, 2)]\n",
      "memoGris [(2, 0), (3, 0), (2, 1), (3, 1)]\n",
      "points [(0, 0), (0, 1), (0, 2), (1, 2)]\n",
      "memoGris [(2, 0), (3, 0), (2, 1), (3, 1)]\n",
      "points [(0, 0), (0, 1), (0, 2), (1, 2), (2, 2)]\n",
      "memoGris [(2, 0), (3, 0), (2, 1), (3, 1)]\n",
      "points [(0, 0), (0, 1), (0, 2), (1, 2), (2, 2), (3, 2)]\n",
      "memoGris [(2, 0), (3, 0), (2, 1), (3, 1)]\n",
      "points [(0, 0), (0, 1), (0, 2), (1, 2), (2, 2), (3, 2), (3, 3)]\n",
      "memoGris [(2, 0), (3, 0), (2, 1), (3, 1)]\n"
     ]
    }
   ],
   "source": [
    "maze=[[True for b in range(4)] for a in range(4)]\n",
    "maze[1][1]=False\n",
    "maze[1][0]=False\n",
    "getRobots(maze)"
   ]
  },
  {
   "cell_type": "markdown",
   "metadata": {},
   "source": [
    "# Explanation of Recursion"
   ]
  },
  {
   "cell_type": "code",
   "execution_count": 75,
   "metadata": {
    "collapsed": true
   },
   "outputs": [],
   "source": [
    "def recursionAlgo(a):\n",
    "    recurseWithTwo(a,a+2)\n",
    "    \n",
    "    print(\"i run first\")\n",
    "    \n",
    "def recurseWithTwo(a,b):\n",
    "    if a==0 or b==0:\n",
    "        return True\n",
    "    elif recurseWithTwo(a-1,b) or recurseWithTwo(a, b-1):\n",
    "        print(a,b)\n",
    "        return True"
   ]
  },
  {
   "cell_type": "code",
   "execution_count": 76,
   "metadata": {},
   "outputs": [
    {
     "name": "stdout",
     "output_type": "stream",
     "text": [
      "1 5\n",
      "2 5\n",
      "3 5\n",
      "i run first\n"
     ]
    }
   ],
   "source": [
    "recursionAlgo(3)"
   ]
  },
  {
   "cell_type": "markdown",
   "metadata": {},
   "source": [
    "# Find Magic Index with distinct elements and sorted "
   ]
  },
  {
   "cell_type": "code",
   "execution_count": 128,
   "metadata": {
    "collapsed": true
   },
   "outputs": [],
   "source": [
    "def getMagic(arr):\n",
    "    if arr:\n",
    "        return getMagicIndex(arr, 0, len(arr)-1)\n",
    "    else:\n",
    "        return -1\n",
    "def getMagicIndex(arr, start, end):\n",
    "    if start>end:\n",
    "        return -1\n",
    "    else:\n",
    "        mid = (start+end)//2\n",
    "        if mid==arr[mid]:\n",
    "            print(\"mid found\")\n",
    "            return mid\n",
    "        elif mid>arr[mid]:\n",
    "            return getMagicIndex(arr, mid+1, end)\n",
    "        else:\n",
    "            return getMagicIndex(arr, start, mid-1)\n",
    "        \n",
    "        \n",
    "    "
   ]
  },
  {
   "cell_type": "code",
   "execution_count": 129,
   "metadata": {},
   "outputs": [
    {
     "name": "stdout",
     "output_type": "stream",
     "text": [
      "mid found\n",
      "0\n"
     ]
    }
   ],
   "source": [
    "input1=[0,2,3,4,8,7,9]\n",
    "print(getMagic(input1))"
   ]
  },
  {
   "cell_type": "markdown",
   "metadata": {},
   "source": [
    "# 2 Version if distinct elements not necessary"
   ]
  },
  {
   "cell_type": "code",
   "execution_count": 4,
   "metadata": {
    "collapsed": true
   },
   "outputs": [],
   "source": [
    "def getMagicWithDuplicate(arr):\n",
    "    if arr:\n",
    "        return getMagicDuplicate(arr, 0, len(arr))\n",
    "    else:\n",
    "        return\n",
    "def getMagicDuplicate(arr, start, end):\n",
    "    if start>end:\n",
    "        return\n",
    "    mid = (start+end)//2\n",
    "    if mid == arr[mid]:\n",
    "        return mid\n",
    "    else:\n",
    "        left=getMagicDuplicate(arr, start, min(mid-1,arr[mid]))\n",
    "        return left\n",
    "        right= getMagicDuplicate(arr, max(mid+1,arr[mid]), end)\n",
    "        return right\n",
    "    "
   ]
  },
  {
   "cell_type": "code",
   "execution_count": 8,
   "metadata": {},
   "outputs": [
    {
     "name": "stdout",
     "output_type": "stream",
     "text": [
      "3\n"
     ]
    }
   ],
   "source": [
    "input1=[-10, -11, 1, 3, 6,8,11]\n",
    "print(getMagicWithDuplicate(input1))"
   ]
  },
  {
   "cell_type": "markdown",
   "metadata": {},
   "source": [
    "# Subsets of set"
   ]
  },
  {
   "cell_type": "code",
   "execution_count": 1,
   "metadata": {
    "collapsed": true
   },
   "outputs": [],
   "source": [
    "def getSubsets(arr):\n",
    "    output=[[]]\n",
    "    for i in range(len(arr)):\n",
    "        result=[]\n",
    "        for k in output:\n",
    "            t=k.copy()\n",
    "            t.append(arr[i])\n",
    "            result.append(t)\n",
    "        for i in result:\n",
    "            output.append(i)\n",
    "    return output\n"
   ]
  },
  {
   "cell_type": "code",
   "execution_count": 2,
   "metadata": {},
   "outputs": [
    {
     "name": "stdout",
     "output_type": "stream",
     "text": [
      "[[], [1], [2], [1, 2]]\n"
     ]
    }
   ],
   "source": [
    "input1=[1,2]\n",
    "print(getSubsets(input1))"
   ]
  },
  {
   "cell_type": "markdown",
   "metadata": {
    "collapsed": true
   },
   "source": [
    "# multiply two numbers without using * "
   ]
  },
  {
   "cell_type": "code",
   "execution_count": 45,
   "metadata": {
    "collapsed": true
   },
   "outputs": [],
   "source": [
    "def getMultiplication(smaller, bigger):\n",
    "    if smaller==1:\n",
    "        return bigger\n",
    "    else:\n",
    "        s = smaller>>1\n",
    "        print(\"calling even\", s)\n",
    "        result1=getMultiplication(s, bigger)\n",
    "        result2 = result1\n",
    "        print(\"even\", result2)\n",
    "        if smaller%2==1:\n",
    "            print(\"calling odd\", smaller-s)\n",
    "            result2=getMultiplication(smaller-s, bigger)\n",
    "            print(\"odd\",result1)\n",
    "    print(\"first exit\", result1+result2)\n",
    "    return result1+result2\n",
    "    \n",
    "        "
   ]
  },
  {
   "cell_type": "code",
   "execution_count": 46,
   "metadata": {},
   "outputs": [
    {
     "name": "stdout",
     "output_type": "stream",
     "text": [
      "calling even 3\n",
      "calling even 1\n",
      "even 7\n",
      "calling odd 2\n",
      "calling even 1\n",
      "even 7\n",
      "first exit 14\n",
      "odd 7\n",
      "first exit 21\n",
      "even 21\n",
      "first exit 42\n"
     ]
    },
    {
     "data": {
      "text/plain": [
       "42"
      ]
     },
     "execution_count": 46,
     "metadata": {},
     "output_type": "execute_result"
    }
   ],
   "source": [
    "getMultiplication(6,7)"
   ]
  },
  {
   "cell_type": "markdown",
   "metadata": {
    "collapsed": true
   },
   "source": [
    "# Permutation with Dups"
   ]
  },
  {
   "cell_type": "code",
   "execution_count": 2,
   "metadata": {},
   "outputs": [],
   "source": [
    "def getPermute(a,l,r):\n",
    "    if l==r:\n",
    "        print(\"\".join(a))\n",
    "    else:\n",
    "        for i in range(l, r+1):\n",
    "            a[l], a[i]=a[i],a[l]\n",
    "            getPermute(a,l+1,r)\n",
    "            a[i],a[l]=a[l],a[i] #backtracking\n",
    "            "
   ]
  },
  {
   "cell_type": "code",
   "execution_count": 3,
   "metadata": {},
   "outputs": [
    {
     "name": "stdout",
     "output_type": "stream",
     "text": [
      "aa\n",
      "aa\n"
     ]
    }
   ],
   "source": [
    "getPermute(list(\"aa\"),0,1)"
   ]
  },
  {
   "cell_type": "code",
   "execution_count": 5,
   "metadata": {},
   "outputs": [],
   "source": [
    "def getPermStepByStep(a,l,r):\n",
    "    output=[]\n",
    "    if l==r:\n",
    "        return list(a[r])\n",
    "    else:\n",
    "        result = getPermStepByStep(a,l+1,r)\n",
    "        for value in result:\n",
    "            if len(value)==len(a):\n",
    "                break\n",
    "            for i in range(len(value)+1):\n",
    "                out=value[0:i]+a[l]+value[i:len(value)]\n",
    "                output.append(out)\n",
    "    return output\n",
    "\n",
    "    \n",
    "    "
   ]
  },
  {
   "cell_type": "code",
   "execution_count": 6,
   "metadata": {},
   "outputs": [
    {
     "data": {
      "text/plain": [
       "['aa', 'aa']"
      ]
     },
     "execution_count": 6,
     "metadata": {},
     "output_type": "execute_result"
    }
   ],
   "source": [
    "getPermStepByStep(list('aa'),0,1)"
   ]
  },
  {
   "cell_type": "code",
   "execution_count": null,
   "metadata": {
    "collapsed": true
   },
   "outputs": [],
   "source": []
  },
  {
   "cell_type": "code",
   "execution_count": null,
   "metadata": {
    "collapsed": true
   },
   "outputs": [],
   "source": []
  }
 ],
 "metadata": {
  "kernelspec": {
   "display_name": "Python 3",
   "language": "python",
   "name": "python3"
  },
  "language_info": {
   "codemirror_mode": {
    "name": "ipython",
    "version": 3
   },
   "file_extension": ".py",
   "mimetype": "text/x-python",
   "name": "python",
   "nbconvert_exporter": "python",
   "pygments_lexer": "ipython3",
   "version": "3.6.5"
  }
 },
 "nbformat": 4,
 "nbformat_minor": 2
}
