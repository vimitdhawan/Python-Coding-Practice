{
 "cells": [
  {
   "cell_type": "code",
   "execution_count": 5,
   "metadata": {},
   "outputs": [],
   "source": [
    "class Node(object):\n",
    "    def __init__(self, data):\n",
    "        self.data = data\n",
    "        self.nextNode = None\n",
    "        "
   ]
  },
  {
   "cell_type": "code",
   "execution_count": 6,
   "metadata": {},
   "outputs": [],
   "source": [
    "class LinkedList(object):\n",
    "    def __init__(self):\n",
    "        self.size=0\n",
    "        self.head=None\n",
    "    def insertAtStart(self, data):\n",
    "        self.size+=1\n",
    "        newNode = Node(data)\n",
    "        if self.head:\n",
    "            newNode.nextNode =self.head\n",
    "            self.head = newNode\n",
    "        else:\n",
    "            self.head = newNode\n",
    "        return newNode\n",
    "    def traverseList(self):\n",
    "        node = self.head\n",
    "        while node:\n",
    "            print(node.data)\n",
    "            node = node.nextNode\n",
    "    def insertAtLast(self, data):\n",
    "        self.size+=1\n",
    "        newNode = Node(data)\n",
    "        actualNode = self.head\n",
    "        if actualNode:\n",
    "            while actualNode.nextNode:\n",
    "                actualNode = actualNode.nextNode\n",
    "            actualNode.nextNode = newNode\n",
    "        else:\n",
    "            self.head= newNode\n",
    "    def removeNode(self, data):\n",
    "        if self.size>=1:\n",
    "            prev = None\n",
    "            currentNode = self.head\n",
    "            while currentNode.data != data :\n",
    "                prev = currentNode\n",
    "                currentNode = currentNode.nextNode\n",
    "            if prev == None:\n",
    "                self.head = currentNode.nextNode\n",
    "            elif currentNode:\n",
    "                prev.nextNode = currentNode.nextNode\n",
    "            \n",
    "       \n",
    "            \n",
    "        \n",
    "    "
   ]
  },
  {
   "cell_type": "code",
   "execution_count": 7,
   "metadata": {},
   "outputs": [],
   "source": [
    "#linkedList = LinkedList()\n",
    "#linkedList.removeNode(10)\n",
    "#linkedList.insertAtLast(5)\n",
    "#linkedList.removeNode(5)\n",
    "#linkedList.insertAtLast(20)\n",
    "#linkedList.insertAtStart(10)\n",
    "#linkedList.insertAtStart(15)\n",
    "#print(linkedList.head.data)"
   ]
  },
  {
   "cell_type": "markdown",
   "metadata": {},
   "source": [
    "# Remove Duplicates from unsorted linked list"
   ]
  },
  {
   "cell_type": "code",
   "execution_count": 8,
   "metadata": {},
   "outputs": [],
   "source": [
    "def removeDuplicate(listHead):\n",
    "    current = listHead\n",
    "    while current:\n",
    "        runner = current\n",
    "        while runner.nextNode:\n",
    "            if runner.nextNode.data!=current.data:\n",
    "                runner = runner.nextNode\n",
    "            else:\n",
    "                runner.nextNode = runner.nextNode.nextNode \n",
    "        current = current.nextNode\n",
    "# Also remove by using set"
   ]
  },
  {
   "cell_type": "code",
   "execution_count": 9,
   "metadata": {},
   "outputs": [
    {
     "name": "stdout",
     "output_type": "stream",
     "text": [
      "5\n"
     ]
    }
   ],
   "source": [
    "linkedList1 = LinkedList()\n",
    "linkedList1.insertAtLast(5)\n",
    "linkedList1.insertAtLast(5)\n",
    "linkedList1.insertAtStart(5)\n",
    "linkedList1.insertAtStart(5)\n",
    "removeDuplicate(linkedList1.head)\n",
    "linkedList1.traverseList()"
   ]
  },
  {
   "cell_type": "markdown",
   "metadata": {},
   "source": [
    "# Return Kth from Last"
   ]
  },
  {
   "cell_type": "code",
   "execution_count": 10,
   "metadata": {},
   "outputs": [],
   "source": [
    "def getKLast(listHead, k):\n",
    "    current = listHead\n",
    "    runner = listHead\n",
    "    for i in range(k):\n",
    "        if runner:\n",
    "            runner = runner.nextNode\n",
    "        else:\n",
    "            return None\n",
    "    while runner:\n",
    "        runner = runner.nextNode\n",
    "        current = current.nextNode\n",
    "    return current"
   ]
  },
  {
   "cell_type": "code",
   "execution_count": 11,
   "metadata": {},
   "outputs": [
    {
     "name": "stdout",
     "output_type": "stream",
     "text": [
      "15\n",
      "5\n",
      "10\n"
     ]
    }
   ],
   "source": [
    "linkedList2 = LinkedList()\n",
    "linkedList2.insertAtLast(5)\n",
    "linkedList2.insertAtLast(10)\n",
    "linkedList2.insertAtStart(15)\n",
    "linkedList2.insertAtStart(20)\n",
    "linkedList2.head = getKLast(linkedList2.head, 3)\n",
    "linkedList2.traverseList()"
   ]
  },
  {
   "cell_type": "markdown",
   "metadata": {},
   "source": [
    "# Delete Middle Node"
   ]
  },
  {
   "cell_type": "code",
   "execution_count": 12,
   "metadata": {},
   "outputs": [],
   "source": [
    "def deleteMiddleNode(listHead):\n",
    "    current = listHead\n",
    "    runner = listHead.nextNode.nextNode\n",
    "    if runner:\n",
    "        while runner.nextNode and runner.nextNode.nextNode:\n",
    "            current = current.nextNode\n",
    "            runner = runner.nextNode.nextNode\n",
    "        current.nextNode = current.nextNode.nextNode\n",
    "    "
   ]
  },
  {
   "cell_type": "code",
   "execution_count": 13,
   "metadata": {},
   "outputs": [
    {
     "name": "stdout",
     "output_type": "stream",
     "text": [
      "25\n",
      "20\n",
      "10\n",
      "5\n"
     ]
    }
   ],
   "source": [
    "linkedList3 = LinkedList()\n",
    "linkedList3.insertAtStart(5)\n",
    "linkedList3.insertAtStart(10)\n",
    "linkedList3.insertAtStart(15)\n",
    "linkedList3.insertAtStart(20)\n",
    "linkedList3.insertAtStart(25)\n",
    "deleteMiddleNode(linkedList3.head)\n",
    "linkedList3.traverseList()"
   ]
  },
  {
   "cell_type": "markdown",
   "metadata": {},
   "source": [
    "# Delete given Node"
   ]
  },
  {
   "cell_type": "code",
   "execution_count": 14,
   "metadata": {},
   "outputs": [],
   "source": [
    "def deleteGivenNode(node):\n",
    "    if node and node.nextNode:\n",
    "        temp = node.nextNode\n",
    "        node.data = temp.data\n",
    "        node.nextNode = temp.nextNode  "
   ]
  },
  {
   "cell_type": "code",
   "execution_count": 15,
   "metadata": {},
   "outputs": [
    {
     "name": "stdout",
     "output_type": "stream",
     "text": [
      "25\n",
      "20\n",
      "10\n",
      "5\n"
     ]
    }
   ],
   "source": [
    "linkedList4 = LinkedList()\n",
    "linkedList4.insertAtStart(5)\n",
    "linkedList4.insertAtStart(10)\n",
    "node=linkedList4.insertAtStart(15)\n",
    "linkedList4.insertAtStart(20)\n",
    "linkedList4.insertAtStart(25)\n",
    "deleteGivenNode(node)\n",
    "linkedList4.traverseList()"
   ]
  },
  {
   "cell_type": "markdown",
   "metadata": {},
   "source": [
    "# Sum Lists"
   ]
  },
  {
   "cell_type": "code",
   "execution_count": 16,
   "metadata": {},
   "outputs": [],
   "source": [
    "def getSumList(list1Head, list2Head):\n",
    "    outputLinkedList = LinkedList()\n",
    "    node1 = list1Head\n",
    "    node2 = list2Head\n",
    "    carry =0\n",
    "    while node1 and node2:\n",
    "        value = node1.data + node2.data + carry\n",
    "        carry = value//10\n",
    "        node1 = node1.nextNode\n",
    "        node2 = node2.nextNode\n",
    "        outputLinkedList.insertAtStart(value%10)\n",
    "    if carry:\n",
    "        outputLinkedList.insertAtStart(carry)\n",
    "        \n",
    "    return outputLinkedList\n",
    "        "
   ]
  },
  {
   "cell_type": "code",
   "execution_count": 17,
   "metadata": {},
   "outputs": [
    {
     "name": "stdout",
     "output_type": "stream",
     "text": [
      "1\n",
      "6\n",
      "4\n"
     ]
    }
   ],
   "source": [
    "list1 = LinkedList()\n",
    "list2 = LinkedList()\n",
    "list1.insertAtStart(8)\n",
    "list1.insertAtStart(2)\n",
    "list2.insertAtStart(8)\n",
    "list2.insertAtStart(2)\n",
    "\n",
    "output = getSumList(list1.head, list2.head)\n",
    "output.traverseList()\n"
   ]
  },
  {
   "cell_type": "markdown",
   "metadata": {},
   "source": [
    "# Palindrome Linked List"
   ]
  },
  {
   "cell_type": "code",
   "execution_count": 30,
   "metadata": {},
   "outputs": [],
   "source": [
    "def isPalindrome(listHead):\n",
    "    slow = listHead\n",
    "    fast = listHead.nextNode\n",
    "    values=[]\n",
    "    \n",
    "    while fast and fast.nextNode:\n",
    "        values.append(slow.data)\n",
    "        slow = slow.nextNode\n",
    "        fast = fast.nextNode.nextNode\n",
    "    if fast:\n",
    "        values.append(slow.data)\n",
    "    if not slow.nextNode:\n",
    "        return False\n",
    "    slow = slow.nextNode\n",
    "    while slow:\n",
    "        output = values.pop()\n",
    "        if slow.data == output:\n",
    "            slow =slow.nextNode\n",
    "        else:\n",
    "            return False\n",
    "    return True\n",
    "        \n",
    "        "
   ]
  },
  {
   "cell_type": "code",
   "execution_count": 34,
   "metadata": {},
   "outputs": [
    {
     "data": {
      "text/plain": [
       "True"
      ]
     },
     "execution_count": 34,
     "metadata": {},
     "output_type": "execute_result"
    }
   ],
   "source": [
    "linkedList5 = LinkedList()\n",
    "linkedList5.insertAtStart(5)\n",
    "linkedList5.insertAtStart(10)\n",
    "linkedList5.insertAtStart(15)\n",
    "linkedList5.insertAtStart(15)\n",
    "linkedList5.insertAtStart(10)\n",
    "linkedList5.insertAtStart(5)\n",
    "isPalindrome(linkedList5.head)\n"
   ]
  },
  {
   "cell_type": "markdown",
   "metadata": {},
   "source": [
    "# Intersecting two linked list"
   ]
  },
  {
   "cell_type": "code",
   "execution_count": 36,
   "metadata": {},
   "outputs": [],
   "source": [
    "def getIntersectingNode(list1Head, list2Head):\n",
    "    list1Node = list1Head\n",
    "    list2Node = list2Head\n",
    "    list1Length = 1\n",
    "    list2Length = 1\n",
    "    while list1Node.nextNode:\n",
    "        list1Node = list1Node.nextNode\n",
    "        list1Length +=1\n",
    "    while list2Node.nextNode:\n",
    "        list2Node = list2Node.nextNode\n",
    "        list2Length +=1\n",
    "    if list1Node != list2Node:\n",
    "        return None\n",
    "    list1Node = list1Head\n",
    "    list2Node = list2Head\n",
    "    if list1Length > list2Length:\n",
    "        value = list1Length-list2Length\n",
    "        for _ in range(value):\n",
    "            list1Node = list1Node.nextNode\n",
    "    else:\n",
    "        value = list2Length-list1Length\n",
    "        for _ in range(value):\n",
    "            list2Node = list2Node.nextNode\n",
    "    while list1Node != list2Node:\n",
    "        list1Node = list1Node.nextNode\n",
    "        list2Node = list2Node.nextNode\n",
    "    return list1Node   "
   ]
  },
  {
   "cell_type": "code",
   "execution_count": 37,
   "metadata": {},
   "outputs": [
    {
     "name": "stdout",
     "output_type": "stream",
     "text": [
      "20\n"
     ]
    }
   ],
   "source": [
    "linkedList6 = LinkedList()\n",
    "linkedList6.insertAtStart(5)\n",
    "linkedList6.insertAtStart(10)\n",
    "linkedList6.insertAtStart(15)\n",
    "node1=linkedList6.insertAtStart(20)\n",
    "linkedList6.insertAtStart(25)\n",
    "linkedList6.insertAtStart(30)\n",
    "\n",
    "linkedList7 = LinkedList()\n",
    "linkedList7.insertAtStart(3)\n",
    "linkedList7.insertAtStart(4)\n",
    "linkedList7.head.nextNode.nextNode = node1\n",
    "out = getIntersectingNode(linkedList6.head, linkedList7.head)\n",
    "print(out.data)\n"
   ]
  },
  {
   "cell_type": "code",
   "execution_count": 40,
   "metadata": {},
   "outputs": [],
   "source": [
    "def getLoopNode(listHead):\n",
    "    slowRunner = listHead\n",
    "    fastRunner = listHead\n",
    "    \n",
    "    while fastRunner and fastRunner.nextNode:\n",
    "        slowRunner = slowRunner.nextNode\n",
    "        fastRunner = fastRunner.nextNode.nextNode\n",
    "        if slowRunner == fastRunner:\n",
    "            break\n",
    "    if fastRunner and fastRunner.nextNode:\n",
    "        slowRunner = listHead\n",
    "        while slowRunner != fastRunner:\n",
    "            slowRunner = slowRunner.nextNode\n",
    "            fastRunner = fastRunner.nextNode\n",
    "        return slowRunner\n",
    "    else:\n",
    "        return \"No Loop Found\"\n",
    "    "
   ]
  },
  {
   "cell_type": "code",
   "execution_count": 48,
   "metadata": {},
   "outputs": [
    {
     "name": "stdout",
     "output_type": "stream",
     "text": [
      "25\n"
     ]
    }
   ],
   "source": [
    "linkedList7 = LinkedList()\n",
    "node2 = linkedList7.insertAtStart(5)\n",
    "linkedList7.insertAtStart(10)\n",
    "linkedList7.insertAtStart(15)\n",
    "node1=linkedList7.insertAtStart(25)\n",
    "linkedList7.insertAtStart(30)\n",
    "linkedList7.insertAtStart(35)\n",
    "linkedList7.insertAtStart(40)\n",
    "node2.nextNode = node1\n",
    "output = getLoopNode(linkedList7.head)\n",
    "print(output.data)"
   ]
  },
  {
   "cell_type": "code",
   "execution_count": null,
   "metadata": {},
   "outputs": [],
   "source": []
  }
 ],
 "metadata": {
  "kernelspec": {
   "display_name": "Python 3",
   "language": "python",
   "name": "python3"
  },
  "language_info": {
   "codemirror_mode": {
    "name": "ipython",
    "version": 3
   },
   "file_extension": ".py",
   "mimetype": "text/x-python",
   "name": "python",
   "nbconvert_exporter": "python",
   "pygments_lexer": "ipython3",
   "version": "3.6.5"
  }
 },
 "nbformat": 4,
 "nbformat_minor": 2
}
